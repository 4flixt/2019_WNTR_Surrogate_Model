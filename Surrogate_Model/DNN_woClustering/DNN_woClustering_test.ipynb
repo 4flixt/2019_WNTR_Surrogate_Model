{
 "cells": [
  {
   "cell_type": "code",
   "execution_count": 32,
   "metadata": {},
   "outputs": [],
   "source": [
    "import tensorflow as tf\n",
    "import numpy as np\n",
    "import matplotlib.pyplot as plt"
   ]
  },
  {
   "cell_type": "markdown",
   "metadata": {},
   "source": [
    "Create model architecture with input to condense the demand and then input for states control inputs etc."
   ]
  },
  {
   "cell_type": "code",
   "execution_count": 25,
   "metadata": {},
   "outputs": [],
   "source": [
    "in_demand = tf.keras.Input(shape=(20,))\n",
    "in_red_demand = tf.keras.layers.Dense(5, activation=tf.nn.tanh)(in_demand)\n",
    "\n",
    "in_other = tf.keras.Input(shape=(6,))\n",
    "\n",
    "in_0 = tf.keras.layers.concatenate([in_red_demand, in_other])\n",
    "\n",
    "# Intermediate layers:\n",
    "interm_1 = tf.keras.layers.Dense(10, activation=tf.nn.tanh)(in_0)\n",
    "interm_2 = tf.keras.layers.Dense(10, activation=tf.nn.tanh)(in_0)\n",
    "\n",
    "# splitting:\n",
    "interm_red_pressure = interm_2[:,:5]\n",
    "interm_other = interm_2[:,5:]\n",
    "\n",
    "out_pressure = tf.keras.layers.Dense(20)(interm_red_pressure)\n",
    "out_other = tf.keras.layers.Dense(5)(interm_other)\n"
   ]
  },
  {
   "cell_type": "code",
   "execution_count": 26,
   "metadata": {},
   "outputs": [],
   "source": [
    "model = tf.keras.Model(inputs=[in_demand, in_other], outputs=[out_pressure,out_other])"
   ]
  },
  {
   "cell_type": "code",
   "execution_count": 28,
   "metadata": {},
   "outputs": [
    {
     "name": "stdout",
     "output_type": "stream",
     "text": [
      "Model: \"model\"\n",
      "__________________________________________________________________________________________________\n",
      "Layer (type)                    Output Shape         Param #     Connected to                     \n",
      "==================================================================================================\n",
      "input_31 (InputLayer)           [(None, 20)]         0                                            \n",
      "__________________________________________________________________________________________________\n",
      "dense_22 (Dense)                (None, 5)            105         input_31[0][0]                   \n",
      "__________________________________________________________________________________________________\n",
      "input_32 (InputLayer)           [(None, 6)]          0                                            \n",
      "__________________________________________________________________________________________________\n",
      "concatenate_9 (Concatenate)     (None, 11)           0           dense_22[0][0]                   \n",
      "                                                                 input_32[0][0]                   \n",
      "__________________________________________________________________________________________________\n",
      "dense_24 (Dense)                (None, 10)           120         concatenate_9[0][0]              \n",
      "__________________________________________________________________________________________________\n",
      "tf_op_layer_strided_slice_3 (Te [(None, 5)]          0           dense_24[0][0]                   \n",
      "__________________________________________________________________________________________________\n",
      "tf_op_layer_strided_slice_4 (Te [(None, 5)]          0           dense_24[0][0]                   \n",
      "__________________________________________________________________________________________________\n",
      "dense_25 (Dense)                (None, 20)           120         tf_op_layer_strided_slice_3[0][0]\n",
      "__________________________________________________________________________________________________\n",
      "dense_26 (Dense)                (None, 5)            30          tf_op_layer_strided_slice_4[0][0]\n",
      "==================================================================================================\n",
      "Total params: 375\n",
      "Trainable params: 375\n",
      "Non-trainable params: 0\n",
      "__________________________________________________________________________________________________\n"
     ]
    }
   ],
   "source": [
    "model.summary()"
   ]
  },
  {
   "cell_type": "code",
   "execution_count": 29,
   "metadata": {},
   "outputs": [],
   "source": [
    "optim = tf.keras.optimizers.Adam(learning_rate=0.001, beta_1=0.9, beta_2=0.999, amsgrad=False)\n",
    "model.compile(optimizer=optim, loss='mse')\n",
    "\n"
   ]
  },
  {
   "cell_type": "markdown",
   "metadata": {},
   "source": [
    "Create some training data for testing."
   ]
  },
  {
   "cell_type": "code",
   "execution_count": 37,
   "metadata": {},
   "outputs": [],
   "source": [
    "n_data = 2000\n",
    "\n",
    "demand_in = np.random.rand(n_data, 20)\n",
    "other_in = np.random.rand(n_data, 6)\n",
    "\n",
    "pressure_out = np.random.rand(n_data, 20)\n",
    "other_out = np.random.rand(n_data, 5)"
   ]
  },
  {
   "cell_type": "code",
   "execution_count": 41,
   "metadata": {},
   "outputs": [
    {
     "name": "stdout",
     "output_type": "stream",
     "text": [
      "Train on 2000 samples\n",
      "Epoch 1/5\n",
      "2000/2000 [==============================] - 0s 20us/sample - loss: 0.1651 - dense_25_loss: 0.0832 - dense_26_loss: 0.0819\n",
      "Epoch 2/5\n",
      "2000/2000 [==============================] - 0s 19us/sample - loss: 0.1651 - dense_25_loss: 0.0832 - dense_26_loss: 0.0819\n",
      "Epoch 3/5\n",
      "2000/2000 [==============================] - 0s 20us/sample - loss: 0.1651 - dense_25_loss: 0.0832 - dense_26_loss: 0.0819\n",
      "Epoch 4/5\n",
      "2000/2000 [==============================] - 0s 19us/sample - loss: 0.1651 - dense_25_loss: 0.0832 - dense_26_loss: 0.0819\n",
      "Epoch 5/5\n",
      "2000/2000 [==============================] - 0s 20us/sample - loss: 0.1651 - dense_25_loss: 0.0832 - dense_26_loss: 0.0819\n"
     ]
    }
   ],
   "source": [
    "history = model.fit([demand_in, other_in], \n",
    "                    [pressure_out, other_out], \n",
    "                    batch_size=100, \n",
    "                    epochs=5)"
   ]
  },
  {
   "cell_type": "code",
   "execution_count": null,
   "metadata": {},
   "outputs": [],
   "source": []
  }
 ],
 "metadata": {
  "kernelspec": {
   "display_name": "Python 3.6 (WNTR Project)",
   "language": "python",
   "name": "py36_wntr"
  },
  "language_info": {
   "codemirror_mode": {
    "name": "ipython",
    "version": 3
   },
   "file_extension": ".py",
   "mimetype": "text/x-python",
   "name": "python",
   "nbconvert_exporter": "python",
   "pygments_lexer": "ipython3",
   "version": "3.6.10"
  }
 },
 "nbformat": 4,
 "nbformat_minor": 4
}
