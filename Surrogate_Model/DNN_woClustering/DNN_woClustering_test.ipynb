{
 "cells": [
  {
   "cell_type": "code",
   "execution_count": 1,
   "metadata": {},
   "outputs": [],
   "source": [
    "import pandas as pd\n",
    "import matplotlib.pyplot as plt\n",
    "import pickle\n",
    "import wntr\n",
    "import wntr.metrics.economic as economics\n",
    "import numpy as np\n",
    "import pandas as pd\n",
    "import pdb\n",
    "import os\n",
    "\n",
    "import sys\n",
    "sys.path.append('../../WNTR_Model/')\n",
    "from testWN import testWN as twm\n",
    "\n",
    "import tensorflow as tf\n",
    "import numpy as np\n",
    "import matplotlib.pyplot as plt"
   ]
  },
  {
   "cell_type": "markdown",
   "metadata": {},
   "source": [
    "# Data Preprocessing:"
   ]
  },
  {
   "cell_type": "code",
   "execution_count": 2,
   "metadata": {
    "collapsed": true,
    "jupyter": {
     "outputs_hidden": true
    }
   },
   "outputs": [
    {
     "name": "stderr",
     "output_type": "stream",
     "text": [
      "/home/ffiedler/miniconda3/envs/py36_WNTR/lib/python3.6/site-packages/wntr/epanet/io.py:2085: UserWarning:\n",
      "\n",
      "Not all curves were used in \"../../WNTR_Model/c-town_true_network_simplified_controls.inp\"; added with type None, units conversion left to user\n",
      "\n"
     ]
    }
   ],
   "source": [
    "inp_file = '../../WNTR_Model/c-town_true_network_simplified_controls.inp'\n",
    "ctown = twm(inp_file)\n",
    "nw_node_df = pd.DataFrame(ctown.wn.nodes.todict())\n",
    "nw_link_df = pd.DataFrame(ctown.wn.links.todict())\n",
    "\n",
    "node_names = ctown.getNodeName()\n",
    "link_names = ctown.getLinkName()"
   ]
  },
  {
   "cell_type": "code",
   "execution_count": 5,
   "metadata": {},
   "outputs": [],
   "source": [
    "file = '/home/ffiedler/tubCloud/Shared/WDN_SurrogateModels/_RESULTS/150sim_1hourSampling/results_sim_0.pkl'\n",
    "with open(file, 'rb') as f:\n",
    "    results = pickle.load(f)"
   ]
  },
  {
   "cell_type": "markdown",
   "metadata": {},
   "source": [
    "## Junctions:\n",
    "Pressure and demand."
   ]
  },
  {
   "cell_type": "code",
   "execution_count": 18,
   "metadata": {},
   "outputs": [
    {
     "data": {
      "text/plain": [
       "(721, 378)"
      ]
     },
     "execution_count": 18,
     "metadata": {},
     "output_type": "execute_result"
    }
   ],
   "source": [
    "junction_pressure = results.node['pressure'][node_names[2]]\n",
    "junction_pressure.shape"
   ]
  },
  {
   "cell_type": "code",
   "execution_count": 19,
   "metadata": {},
   "outputs": [],
   "source": [
    "junction_demand = results.node['demand'][node_names[2]]"
   ]
  },
  {
   "cell_type": "markdown",
   "metadata": {},
   "source": [
    "## Tank levels:"
   ]
  },
  {
   "cell_type": "code",
   "execution_count": 13,
   "metadata": {},
   "outputs": [
    {
     "data": {
      "text/plain": [
       "(721, 7)"
      ]
     },
     "execution_count": 13,
     "metadata": {},
     "output_type": "execute_result"
    }
   ],
   "source": [
    "tank_level = results.node['pressure'][node_names[0]]\n",
    "tank_level.shape"
   ]
  },
  {
   "cell_type": "markdown",
   "metadata": {},
   "source": [
    "## Pumps:"
   ]
  },
  {
   "cell_type": "code",
   "execution_count": 14,
   "metadata": {},
   "outputs": [],
   "source": [
    "head_pump_speed = results.link['setting'][nw_link_df.keys()[nw_link_df.loc['link_type'] == 'Pump']]\n",
    "head_pump_status = results.link['status'][nw_link_df.keys()[nw_link_df.loc['link_type'] == 'Pump']]\n",
    "\n",
    "head_pump_speed_corr = head_pump_speed*head_pump_status"
   ]
  },
  {
   "cell_type": "code",
   "execution_count": 15,
   "metadata": {},
   "outputs": [
    {
     "data": {
      "text/html": [
       "<div>\n",
       "<style scoped>\n",
       "    .dataframe tbody tr th:only-of-type {\n",
       "        vertical-align: middle;\n",
       "    }\n",
       "\n",
       "    .dataframe tbody tr th {\n",
       "        vertical-align: top;\n",
       "    }\n",
       "\n",
       "    .dataframe thead th {\n",
       "        text-align: right;\n",
       "    }\n",
       "</style>\n",
       "<table border=\"1\" class=\"dataframe\">\n",
       "  <thead>\n",
       "    <tr style=\"text-align: right;\">\n",
       "      <th></th>\n",
       "      <th>PU2</th>\n",
       "      <th>PU5</th>\n",
       "      <th>PU6</th>\n",
       "      <th>PU8</th>\n",
       "      <th>PU10</th>\n",
       "    </tr>\n",
       "  </thead>\n",
       "  <tbody>\n",
       "    <tr>\n",
       "      <th>0</th>\n",
       "      <td>60.926741</td>\n",
       "      <td>30.337207</td>\n",
       "      <td>57.729275</td>\n",
       "      <td>30.484445</td>\n",
       "      <td>19.474339</td>\n",
       "    </tr>\n",
       "    <tr>\n",
       "      <th>3600</th>\n",
       "      <td>179.894788</td>\n",
       "      <td>146.678292</td>\n",
       "      <td>266.693973</td>\n",
       "      <td>17.642207</td>\n",
       "      <td>0.000000</td>\n",
       "    </tr>\n",
       "    <tr>\n",
       "      <th>7200</th>\n",
       "      <td>179.146975</td>\n",
       "      <td>37.104481</td>\n",
       "      <td>167.199208</td>\n",
       "      <td>17.613832</td>\n",
       "      <td>0.000000</td>\n",
       "    </tr>\n",
       "  </tbody>\n",
       "</table>\n",
       "</div>"
      ],
      "text/plain": [
       "             PU2         PU5         PU6        PU8       PU10\n",
       "0      60.926741   30.337207   57.729275  30.484445  19.474339\n",
       "3600  179.894788  146.678292  266.693973  17.642207   0.000000\n",
       "7200  179.146975   37.104481  167.199208  17.613832   0.000000"
      ]
     },
     "execution_count": 15,
     "metadata": {},
     "output_type": "execute_result"
    }
   ],
   "source": [
    "pump_energy = economics.pump_energy(results.link['flowrate'], results.node['head'], ctown.wn)[link_names[0]]\n",
    "pump_energy /= 1000\n",
    "pump_energy.head(3)"
   ]
  },
  {
   "cell_type": "markdown",
   "metadata": {},
   "source": [
    "## Valves"
   ]
  },
  {
   "cell_type": "code",
   "execution_count": 16,
   "metadata": {},
   "outputs": [],
   "source": [
    "PRValve_dp = results.link['setting'][nw_link_df.keys()[nw_link_df.loc['valve_type'] == 'PRV']]\n",
    "TCValve_throttle = results.link['setting'][nw_link_df.keys()[nw_link_df.loc['valve_type'] == 'TCV']]\n",
    "\n",
    "PRValve_status = results.link['status'][nw_link_df.keys()[nw_link_df.loc['valve_type'] == 'PRV']]\n",
    "TCValve_throttle_status = results.link['status'][nw_link_df.keys()[nw_link_df.loc['valve_type'] == 'TCV']]"
   ]
  },
  {
   "cell_type": "markdown",
   "metadata": {},
   "source": [
    "## Neural Network Pre-Processing\n",
    "### NN inputs:"
   ]
  },
  {
   "cell_type": "code",
   "execution_count": 30,
   "metadata": {},
   "outputs": [
    {
     "data": {
      "text/html": [
       "<div>\n",
       "<style scoped>\n",
       "    .dataframe tbody tr th:only-of-type {\n",
       "        vertical-align: middle;\n",
       "    }\n",
       "\n",
       "    .dataframe tbody tr th {\n",
       "        vertical-align: top;\n",
       "    }\n",
       "\n",
       "    .dataframe thead tr th {\n",
       "        text-align: left;\n",
       "    }\n",
       "</style>\n",
       "<table border=\"1\" class=\"dataframe\">\n",
       "  <thead>\n",
       "    <tr>\n",
       "      <th></th>\n",
       "      <th colspan=\"10\" halign=\"left\">1</th>\n",
       "      <th>...</th>\n",
       "      <th colspan=\"10\" halign=\"left\">2</th>\n",
       "    </tr>\n",
       "    <tr>\n",
       "      <th></th>\n",
       "      <th colspan=\"10\" halign=\"left\">junction_demand</th>\n",
       "      <th>...</th>\n",
       "      <th>tank_level</th>\n",
       "      <th colspan=\"5\" halign=\"left\">head_pump_speed</th>\n",
       "      <th colspan=\"3\" halign=\"left\">PRValve_dp</th>\n",
       "      <th>TCValve_throttle</th>\n",
       "    </tr>\n",
       "    <tr>\n",
       "      <th>name</th>\n",
       "      <th>J511</th>\n",
       "      <th>J411</th>\n",
       "      <th>J414</th>\n",
       "      <th>J415</th>\n",
       "      <th>J416</th>\n",
       "      <th>J417</th>\n",
       "      <th>J418</th>\n",
       "      <th>J419</th>\n",
       "      <th>J310</th>\n",
       "      <th>J311</th>\n",
       "      <th>...</th>\n",
       "      <th>T4</th>\n",
       "      <th>PU2</th>\n",
       "      <th>PU5</th>\n",
       "      <th>PU6</th>\n",
       "      <th>PU8</th>\n",
       "      <th>PU10</th>\n",
       "      <th>V1</th>\n",
       "      <th>V45</th>\n",
       "      <th>V47</th>\n",
       "      <th>V2</th>\n",
       "    </tr>\n",
       "  </thead>\n",
       "  <tbody>\n",
       "    <tr>\n",
       "      <th>0</th>\n",
       "      <td>0.00101</td>\n",
       "      <td>0.000415</td>\n",
       "      <td>0.000451</td>\n",
       "      <td>0.0</td>\n",
       "      <td>0.0</td>\n",
       "      <td>0.000602</td>\n",
       "      <td>0.0</td>\n",
       "      <td>0.0</td>\n",
       "      <td>0.001027</td>\n",
       "      <td>0.000894</td>\n",
       "      <td>...</td>\n",
       "      <td>3.683855</td>\n",
       "      <td>1.00000</td>\n",
       "      <td>1.00000</td>\n",
       "      <td>1.00000</td>\n",
       "      <td>1.000000</td>\n",
       "      <td>1.0</td>\n",
       "      <td>507.295166</td>\n",
       "      <td>583.340271</td>\n",
       "      <td>531.153015</td>\n",
       "      <td>16.349977</td>\n",
       "    </tr>\n",
       "    <tr>\n",
       "      <th>3600</th>\n",
       "      <td>0.00088</td>\n",
       "      <td>0.000473</td>\n",
       "      <td>0.000514</td>\n",
       "      <td>0.0</td>\n",
       "      <td>0.0</td>\n",
       "      <td>0.000687</td>\n",
       "      <td>0.0</td>\n",
       "      <td>0.0</td>\n",
       "      <td>0.000779</td>\n",
       "      <td>0.000678</td>\n",
       "      <td>...</td>\n",
       "      <td>3.430354</td>\n",
       "      <td>1.50924</td>\n",
       "      <td>1.72955</td>\n",
       "      <td>1.80228</td>\n",
       "      <td>0.835681</td>\n",
       "      <td>0.0</td>\n",
       "      <td>507.295166</td>\n",
       "      <td>583.340271</td>\n",
       "      <td>531.153015</td>\n",
       "      <td>16.349977</td>\n",
       "    </tr>\n",
       "  </tbody>\n",
       "</table>\n",
       "<p>2 rows × 394 columns</p>\n",
       "</div>"
      ],
      "text/plain": [
       "                   1                                                    \\\n",
       "     junction_demand                                                     \n",
       "name            J511      J411      J414 J415 J416      J417 J418 J419   \n",
       "0            0.00101  0.000415  0.000451  0.0  0.0  0.000602  0.0  0.0   \n",
       "3600         0.00088  0.000473  0.000514  0.0  0.0  0.000687  0.0  0.0   \n",
       "\n",
       "                          ...          2                                    \\\n",
       "                          ... tank_level head_pump_speed                     \n",
       "name      J310      J311  ...         T4             PU2      PU5      PU6   \n",
       "0     0.001027  0.000894  ...   3.683855         1.00000  1.00000  1.00000   \n",
       "3600  0.000779  0.000678  ...   3.430354         1.50924  1.72955  1.80228   \n",
       "\n",
       "                                                                          \n",
       "                     PRValve_dp                         TCValve_throttle  \n",
       "name       PU8 PU10          V1         V45         V47               V2  \n",
       "0     1.000000  1.0  507.295166  583.340271  531.153015        16.349977  \n",
       "3600  0.835681  0.0  507.295166  583.340271  531.153015        16.349977  \n",
       "\n",
       "[2 rows x 394 columns]"
      ]
     },
     "execution_count": 30,
     "metadata": {},
     "output_type": "execute_result"
    }
   ],
   "source": [
    "input_1_dict = {\n",
    "    'junction_demand': junction_demand\n",
    "}\n",
    "\n",
    "nn_inputs_1 = pd.concat(input_1_dict.values(), axis=1, keys=input_1_dict.keys())\n",
    "\n",
    "input_2_dict = {\n",
    "    'tank_level': tank_level,\n",
    "    'head_pump_speed': head_pump_speed_corr,             \n",
    "    'PRValve_dp': PRValve_dp,          \n",
    "    'TCValve_throttle': TCValve_throttle\n",
    "}\n",
    "\n",
    "nn_inputs_2 = pd.concat(input_2_dict.values(), axis=1, keys=input_2_dict.keys())\n",
    "\n",
    "nn_input_dict = {\n",
    "    '1': nn_inputs_1,\n",
    "    '2': nn_inputs_2\n",
    "}\n",
    "nn_input = pd.concat(nn_input_dict.values(), axis=1, keys=nn_input_dict.keys())\n",
    "\n",
    "nn_input.head(2)"
   ]
  },
  {
   "cell_type": "markdown",
   "metadata": {},
   "source": [
    "### NN outputs:"
   ]
  },
  {
   "cell_type": "code",
   "execution_count": 31,
   "metadata": {},
   "outputs": [
    {
     "data": {
      "text/html": [
       "<div>\n",
       "<style scoped>\n",
       "    .dataframe tbody tr th:only-of-type {\n",
       "        vertical-align: middle;\n",
       "    }\n",
       "\n",
       "    .dataframe tbody tr th {\n",
       "        vertical-align: top;\n",
       "    }\n",
       "\n",
       "    .dataframe thead tr th {\n",
       "        text-align: left;\n",
       "    }\n",
       "</style>\n",
       "<table border=\"1\" class=\"dataframe\">\n",
       "  <thead>\n",
       "    <tr>\n",
       "      <th></th>\n",
       "      <th colspan=\"10\" halign=\"left\">1</th>\n",
       "      <th>...</th>\n",
       "      <th colspan=\"10\" halign=\"left\">2</th>\n",
       "    </tr>\n",
       "    <tr>\n",
       "      <th></th>\n",
       "      <th colspan=\"10\" halign=\"left\">junction_pressure</th>\n",
       "      <th>...</th>\n",
       "      <th colspan=\"5\" halign=\"left\">dtank_level_next</th>\n",
       "      <th colspan=\"5\" halign=\"left\">pump_energy</th>\n",
       "    </tr>\n",
       "    <tr>\n",
       "      <th>name</th>\n",
       "      <th>J511</th>\n",
       "      <th>J411</th>\n",
       "      <th>J414</th>\n",
       "      <th>J415</th>\n",
       "      <th>J416</th>\n",
       "      <th>J417</th>\n",
       "      <th>J418</th>\n",
       "      <th>J419</th>\n",
       "      <th>J310</th>\n",
       "      <th>J311</th>\n",
       "      <th>...</th>\n",
       "      <th>T7</th>\n",
       "      <th>T6</th>\n",
       "      <th>T5</th>\n",
       "      <th>T2</th>\n",
       "      <th>T4</th>\n",
       "      <th>PU2</th>\n",
       "      <th>PU5</th>\n",
       "      <th>PU6</th>\n",
       "      <th>PU8</th>\n",
       "      <th>PU10</th>\n",
       "    </tr>\n",
       "  </thead>\n",
       "  <tbody>\n",
       "    <tr>\n",
       "      <th>0</th>\n",
       "      <td>31.067541</td>\n",
       "      <td>66.957504</td>\n",
       "      <td>37.684246</td>\n",
       "      <td>84.249519</td>\n",
       "      <td>98.557381</td>\n",
       "      <td>33.396194</td>\n",
       "      <td>30.309166</td>\n",
       "      <td>26.899286</td>\n",
       "      <td>52.477169</td>\n",
       "      <td>48.400047</td>\n",
       "      <td>...</td>\n",
       "      <td>-0.191328</td>\n",
       "      <td>0.236646</td>\n",
       "      <td>0.551724</td>\n",
       "      <td>0.038128</td>\n",
       "      <td>-0.253501</td>\n",
       "      <td>60.926741</td>\n",
       "      <td>30.337207</td>\n",
       "      <td>57.729275</td>\n",
       "      <td>30.484445</td>\n",
       "      <td>19.474339</td>\n",
       "    </tr>\n",
       "    <tr>\n",
       "      <th>3600</th>\n",
       "      <td>32.984055</td>\n",
       "      <td>70.013931</td>\n",
       "      <td>37.980427</td>\n",
       "      <td>164.388840</td>\n",
       "      <td>149.868896</td>\n",
       "      <td>32.762733</td>\n",
       "      <td>27.208258</td>\n",
       "      <td>24.439222</td>\n",
       "      <td>48.539520</td>\n",
       "      <td>44.449219</td>\n",
       "      <td>...</td>\n",
       "      <td>-1.645444</td>\n",
       "      <td>-0.317813</td>\n",
       "      <td>0.512025</td>\n",
       "      <td>-0.141554</td>\n",
       "      <td>1.269643</td>\n",
       "      <td>179.894788</td>\n",
       "      <td>146.678292</td>\n",
       "      <td>266.693973</td>\n",
       "      <td>17.642207</td>\n",
       "      <td>0.000000</td>\n",
       "    </tr>\n",
       "  </tbody>\n",
       "</table>\n",
       "<p>2 rows × 390 columns</p>\n",
       "</div>"
      ],
      "text/plain": [
       "                     1                                                \\\n",
       "     junction_pressure                                                 \n",
       "name              J511       J411       J414        J415        J416   \n",
       "0            31.067541  66.957504  37.684246   84.249519   98.557381   \n",
       "3600         32.984055  70.013931  37.980427  164.388840  149.868896   \n",
       "\n",
       "                                                             ...  \\\n",
       "                                                             ...   \n",
       "name       J417       J418       J419       J310       J311  ...   \n",
       "0     33.396194  30.309166  26.899286  52.477169  48.400047  ...   \n",
       "3600  32.762733  27.208258  24.439222  48.539520  44.449219  ...   \n",
       "\n",
       "                    2                                                      \\\n",
       "     dtank_level_next                                         pump_energy   \n",
       "name               T7        T6        T5        T2        T4         PU2   \n",
       "0           -0.191328  0.236646  0.551724  0.038128 -0.253501   60.926741   \n",
       "3600        -1.645444 -0.317813  0.512025 -0.141554  1.269643  179.894788   \n",
       "\n",
       "                                                    \n",
       "                                                    \n",
       "name         PU5         PU6        PU8       PU10  \n",
       "0      30.337207   57.729275  30.484445  19.474339  \n",
       "3600  146.678292  266.693973  17.642207   0.000000  \n",
       "\n",
       "[2 rows x 390 columns]"
      ]
     },
     "execution_count": 31,
     "metadata": {},
     "output_type": "execute_result"
    }
   ],
   "source": [
    "dtank_level = tank_level.diff(axis=0)\n",
    "dtank_level_next = dtank_level.shift(-1, axis=0)\n",
    "\n",
    "output_1_dict ={\n",
    "    'junction_pressure': junction_pressure,\n",
    "}\n",
    "nn_outputs_1 = pd.concat(output_1_dict.values(), axis=1, keys=output_1_dict.keys())\n",
    "\n",
    "output_2_dict = {\n",
    "    'dtank_level_next': dtank_level_next,\n",
    "    'pump_energy': pump_energy,\n",
    "}\n",
    "nn_outputs_2 = pd.concat(output_2_dict.values(), axis=1, keys=output_2_dict.keys())\n",
    "\n",
    "nn_output_dict = {\n",
    "    '1': nn_outputs_1,\n",
    "    '2': nn_outputs_2\n",
    "}\n",
    "nn_output = pd.concat(nn_output_dict.values(), axis=1, keys=nn_output_dict.keys())\n",
    "\n",
    "nn_output.head(2)"
   ]
  },
  {
   "cell_type": "markdown",
   "metadata": {},
   "source": [
    "Filter inputs and outputs. Due to shifting, we introduced `NaN` in the dataframes. These are removed in this step."
   ]
  },
  {
   "cell_type": "code",
   "execution_count": 32,
   "metadata": {},
   "outputs": [
    {
     "name": "stdout",
     "output_type": "stream",
     "text": [
      "n_samples=720, n_inputs = 394, n_outputs=390\n"
     ]
    }
   ],
   "source": [
    "# Filter nan:\n",
    "output_filter = nn_output.isnull().any(axis=1)\n",
    "if output_filter.any():\n",
    "    nn_input = nn_input[~output_filter]\n",
    "    nn_output = nn_output[~output_filter]\n",
    "    \n",
    "\n",
    "input_filter = nn_input.isnull().any(axis=1)\n",
    "if input_filter.any():\n",
    "    nn_input = nn_input[~input_filter]\n",
    "    nn_output = nn_output[~input_filter]\n",
    "\n",
    "print('n_samples={}, n_inputs = {}, n_outputs={}'.format(*nn_input.shape, nn_output.shape[1]))"
   ]
  },
  {
   "cell_type": "code",
   "execution_count": 52,
   "metadata": {},
   "outputs": [],
   "source": [
    "input_scaling = nn_input.abs().max()\n",
    "input_scaling.loc[input_scaling.abs()<1e-5]=1e-5\n",
    "nn_input_scaled = nn_input/input_scaling\n",
    "\n",
    "output_scaling = nn_output.abs().max()\n",
    "output_scaling.loc[output_scaling.abs()<1e-5]=1e-5\n",
    "nn_output_scaled = nn_output/output_scaling"
   ]
  },
  {
   "cell_type": "markdown",
   "metadata": {},
   "source": [
    "# DNN Model creation"
   ]
  },
  {
   "cell_type": "markdown",
   "metadata": {},
   "source": [
    "Create model architecture with input to condense the demand and then input for states control inputs etc."
   ]
  },
  {
   "cell_type": "code",
   "execution_count": 536,
   "metadata": {},
   "outputs": [],
   "source": [
    "UnitNorm_cons = tf.keras.constraints.UnitNorm(axis=1)\n",
    "minmax_cons = tf.keras.constraints.MinMaxNorm(\n",
    "    min_value=0, max_value=1.0, rate=1.0, axis=1\n",
    ")\n",
    "nonneg_cons = tf.keras.constraints.NonNeg()\n",
    "nonnegunit_cons =  nonnegUnitNorm(axis=1)\n",
    "\n",
    "l1_penalty = tf.keras.regularizers.l1(l=0.001)\n",
    "l2_penalty = tf.keras.regularizers.l2(l=0.1)"
   ]
  },
  {
   "cell_type": "code",
   "execution_count": 545,
   "metadata": {},
   "outputs": [],
   "source": [
    "n_cluster = 30\n",
    "\n",
    "# Input 1 with reduction:\n",
    "tf_in_1 = tf.keras.Input(shape=(nn_input['1'].shape[1]), name='in_1')\n",
    "tf_in_1_red = tf.keras.layers.Dense(\n",
    "    n_cluster, \n",
    "    name='cluster_in_1', \n",
    "    use_bias=False, \n",
    "    kernel_regularizer=l1_penalty,\n",
    "    kernel_constraint=UnitNorm_cons,\n",
    ")(tf_in_1)\n",
    "\n",
    "# Input 2\n",
    "tf_in_2 = tf.keras.Input(shape=(nn_input['2'].shape[1],), name='in_2')\n",
    "\n",
    "# Concatenating inputs:\n",
    "tf_in_cat = tf.keras.layers.concatenate([tf_in_1_red, tf_in_2], name='input_concatenate')\n",
    "\n",
    "# Intermediate (non-linear) layers:\n",
    "tf_interm = tf.keras.layers.Dense(50, activation=tf.nn.tanh, name='interm_1')(tf_in_cat)\n",
    "tf_interm = tf.keras.layers.Dense(50, activation=tf.nn.tanh, name='interm_2')(tf_interm)\n",
    "tf_interm = tf.keras.layers.Dense(50, activation=tf.nn.tanh, name='interm_3')(tf_interm)\n",
    "\n",
    "# splitting:\n",
    "tf_interm_1 = tf_interm[:,:n_cluster]\n",
    "tf_interm_2 = tf_interm[:,n_cluster:]\n",
    "\n",
    "# Linear output layer\n",
    "tf_out_1 = tf.keras.layers.Dense(\n",
    "    nn_output['1'].shape[1], \n",
    "    name='out_1', \n",
    "    use_bias=False,\n",
    "    kernel_constraint=nonneg_cons,\n",
    ")(tf_interm_1)\n",
    "tf_out_2 = tf.keras.layers.Dense(nn_output['2'].shape[1], name='out_2')(tf_interm_2)\n"
   ]
  },
  {
   "cell_type": "code",
   "execution_count": 538,
   "metadata": {},
   "outputs": [],
   "source": [
    "model = tf.keras.Model(inputs=[tf_in_1, tf_in_2], outputs=[tf_out_1,tf_out_2])"
   ]
  },
  {
   "cell_type": "code",
   "execution_count": 539,
   "metadata": {},
   "outputs": [],
   "source": [
    "optim = tf.keras.optimizers.Adam(learning_rate=0.001, beta_1=0.9, beta_2=0.999, amsgrad=False)\n",
    "model.compile(optimizer=optim, loss='mse')"
   ]
  },
  {
   "cell_type": "markdown",
   "metadata": {},
   "source": [
    "## Model training"
   ]
  },
  {
   "cell_type": "code",
   "execution_count": 540,
   "metadata": {},
   "outputs": [],
   "source": [
    "%%capture\n",
    "history = model.fit([nn_input_scaled['1'], nn_input_scaled['2']], \n",
    "                    [nn_output_scaled['1'], nn_output_scaled['2']], \n",
    "                    batch_size=50, \n",
    "                    epochs=1000)"
   ]
  },
  {
   "cell_type": "code",
   "execution_count": 541,
   "metadata": {},
   "outputs": [
    {
     "data": {
      "text/plain": [
       "<matplotlib.legend.Legend at 0x7fb8b86adda0>"
      ]
     },
     "execution_count": 541,
     "metadata": {},
     "output_type": "execute_result"
    },
    {
     "data": {
      "image/png": "[encoded data removed]",
      "text/plain": [
       "<Figure size 432x288 with 1 Axes>"
      ]
     },
     "metadata": {
      "needs_background": "light"
     },
     "output_type": "display_data"
    }
   ],
   "source": [
    "plt.semilogy(history.epoch,history.history['out_1_loss'], label='out_1')\n",
    "plt.semilogy(history.epoch,history.history['out_2_loss'], label='out_2')\n",
    "plt.legend()"
   ]
  },
  {
   "cell_type": "code",
   "execution_count": 542,
   "metadata": {},
   "outputs": [],
   "source": [
    "A_cluster = model.get_layer('cluster_in_1').get_weights()[0]"
   ]
  },
  {
   "cell_type": "code",
   "execution_count": 543,
   "metadata": {},
   "outputs": [
    {
     "data": {
      "text/plain": [
       "array([5.477, 5.477, 5.477, 5.477, 5.477, 5.477, 5.477, 5.477, 5.477, 5.477, 5.477, 5.477, 5.477, 5.477, 5.477, 5.477, 5.477, 5.477, 5.477, 5.477, 5.477, 5.477, 5.477, 5.477, 5.477, 5.477, 5.477, 5.477, 5.477, 5.477, 5.477, 5.477, 5.477, 5.477, 5.477, 5.477, 5.477, 5.477, 5.477, 5.477, 5.477,\n",
       "       5.477, 5.477, 5.477, 5.477, 5.477, 5.477, 5.477, 5.477, 5.477, 5.477, 5.477, 5.477, 5.477, 5.477, 5.477, 5.477, 5.477, 5.477, 5.477, 5.477, 5.477, 5.477, 5.477, 5.477, 5.477, 5.477, 5.477, 5.477, 5.477, 5.477, 5.477, 5.477, 5.477, 5.477, 5.477, 5.477, 5.477, 5.477, 5.477, 5.477, 5.477,\n",
       "       5.477, 5.477, 5.477, 5.477, 5.477, 5.477, 5.477, 5.477, 5.477, 5.477, 5.477, 5.477, 5.477, 5.477, 5.477, 5.477, 5.477, 5.477, 5.477, 5.477, 5.477, 5.477, 5.477, 5.477, 5.477, 5.477, 5.477, 5.477, 5.477, 5.477, 5.477, 5.477, 5.477, 5.477, 5.477, 5.477, 5.477, 5.477, 5.477, 5.477, 5.477,\n",
       "       5.477, 5.477, 5.477, 5.477, 5.477, 5.477, 5.477, 5.477, 5.477, 5.477, 5.477, 5.477, 5.477, 5.477, 5.477, 5.477, 5.477, 5.477, 5.477, 5.477, 5.477, 5.477, 5.477, 5.477, 5.477, 5.477, 5.477, 5.477, 5.477, 5.477, 5.477, 5.477, 5.477, 5.477, 5.477, 5.477, 5.477, 5.477, 5.477, 5.477, 5.477,\n",
       "       5.477, 5.477, 5.477, 5.477, 5.477, 5.477, 5.477, 5.477, 5.477, 5.477, 5.477, 5.477, 5.477, 5.477, 5.477, 5.477, 5.477, 5.477, 5.477, 5.477, 5.477, 5.477, 5.477, 5.477, 5.477, 5.477, 5.477, 5.477, 5.477, 5.477, 5.477, 5.477, 5.477, 5.477, 5.477, 5.477, 5.477, 5.477, 5.477, 5.477, 5.477,\n",
       "       5.477, 5.477, 5.477, 5.477, 5.477, 5.477, 5.477, 5.477, 5.477, 5.477, 5.477, 5.477, 5.477, 5.477, 5.477, 5.477, 5.477, 5.477, 5.477, 5.477, 5.477, 5.477, 5.477, 5.477, 5.477, 5.477, 5.477, 5.477, 5.477, 5.477, 5.477, 5.477, 5.477, 5.477, 5.477, 5.477, 5.477, 5.477, 5.477, 5.477, 5.477,\n",
       "       5.477, 5.477, 5.477, 5.477, 5.477, 5.477, 5.477, 5.477, 5.477, 5.477, 5.477, 5.477, 5.477, 5.477, 5.477, 5.477, 5.477, 5.477, 5.477, 5.477, 5.477, 5.477, 5.477, 5.477, 5.477, 5.477, 5.477, 5.477, 5.477, 5.477, 5.477, 5.477, 5.477, 5.477, 5.477, 5.477, 5.477, 5.477, 5.477, 5.477, 5.477,\n",
       "       5.477, 5.477, 5.477, 5.477, 5.477, 5.477, 5.477, 5.477, 5.477, 5.477, 5.477, 5.477, 5.477, 5.477, 5.477, 5.477, 5.477, 5.477, 5.477, 5.477, 5.477, 5.477, 5.477, 5.477, 5.477, 5.477, 5.477, 5.477, 5.477, 5.477, 5.477, 5.477, 5.477, 5.477, 5.477, 5.477, 5.477, 5.477, 5.477, 5.477, 5.477,\n",
       "       5.477, 5.477, 5.477, 5.477, 5.477, 5.477, 5.477, 5.477, 5.477, 5.477, 5.477, 5.477, 5.477, 5.477, 5.477, 5.477, 5.477, 5.477, 5.477, 5.477, 5.477, 5.477, 5.477, 5.477, 5.477, 5.477, 5.477, 5.477, 5.477, 5.477, 5.477, 5.477, 5.477, 5.477, 5.477, 5.477, 5.477, 5.477, 5.477, 5.477, 5.477,\n",
       "       5.477, 5.477, 5.477, 5.477, 5.477, 5.477, 5.477, 5.477, 5.477], dtype=float32)"
      ]
     },
     "execution_count": 543,
     "metadata": {},
     "output_type": "execute_result"
    }
   ],
   "source": [
    "np.sum(A_cluster,axis=1)"
   ]
  },
  {
   "cell_type": "code",
   "execution_count": 500,
   "metadata": {},
   "outputs": [],
   "source": [
    "A_cluster[np.abs(A_cluster)<1e-3]=0"
   ]
  },
  {
   "cell_type": "code",
   "execution_count": 501,
   "metadata": {},
   "outputs": [
    {
     "data": {
      "text/plain": [
       "378"
      ]
     },
     "execution_count": 501,
     "metadata": {},
     "output_type": "execute_result"
    }
   ],
   "source": [
    "np.sum(A_cluster!=0)"
   ]
  },
  {
   "cell_type": "code",
   "execution_count": 507,
   "metadata": {},
   "outputs": [],
   "source": [
    "A_decluster = model.get_layer('out_1').get_weights()[0]"
   ]
  },
  {
   "cell_type": "code",
   "execution_count": 508,
   "metadata": {},
   "outputs": [
    {
     "data": {
      "text/plain": [
       "7494"
      ]
     },
     "execution_count": 508,
     "metadata": {},
     "output_type": "execute_result"
    }
   ],
   "source": [
    "np.sum(A_decluster!=0)"
   ]
  },
  {
   "cell_type": "code",
   "execution_count": 509,
   "metadata": {},
   "outputs": [
    {
     "data": {
      "text/plain": [
       "66"
      ]
     },
     "execution_count": 509,
     "metadata": {},
     "output_type": "execute_result"
    }
   ],
   "source": [
    "np.sum(A_decluster==0)"
   ]
  }
 ],
 "metadata": {
  "kernelspec": {
   "display_name": "Python 3.6 (WNTR Project)",
   "language": "python",
   "name": "py36_wntr"
  },
  "language_info": {
   "codemirror_mode": {
    "name": "ipython",
    "version": 3
   },
   "file_extension": ".py",
   "mimetype": "text/x-python",
   "name": "python",
   "nbconvert_exporter": "python",
   "pygments_lexer": "ipython3",
   "version": "3.6.10"
  }
 },
 "nbformat": 4,
 "nbformat_minor": 4
}
