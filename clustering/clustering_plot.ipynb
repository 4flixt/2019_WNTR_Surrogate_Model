{
 "cells": [
  {
   "cell_type": "code",
   "execution_count": 19,
   "metadata": {},
   "outputs": [],
   "source": [
    "import pandas\n",
    "import matplotlib.pyplot as plt\n",
    "import matplotlib\n",
    "import pickle\n",
    "import wntr\n",
    "import numpy as np\n",
    "import pandas as pd\n",
    "\n",
    "import os\n",
    "import sys\n",
    "sys.path.append('../Code/')\n",
    "\n",
    "from testWN import testWN as twm\n",
    "\n",
    "from sklearn.cluster import AgglomerativeClustering, FeatureAgglomeration, SpectralClustering\n",
    "from sklearn.decomposition import PCA\n",
    "\n",
    "matplotlib.rcParams['font.size'] = 12\n",
    "matplotlib.rcParams['axes.unicode_minus'] = False\n",
    "matplotlib.rcParams['svg.fonttype'] = 'none'"
   ]
  },
  {
   "cell_type": "code",
   "execution_count": 2,
   "metadata": {},
   "outputs": [],
   "source": [
    "%matplotlib qt"
   ]
  },
  {
   "cell_type": "markdown",
   "metadata": {},
   "source": [
    "# Get Network Information"
   ]
  },
  {
   "cell_type": "code",
   "execution_count": 3,
   "metadata": {
    "scrolled": true
   },
   "outputs": [
    {
     "name": "stderr",
     "output_type": "stream",
     "text": [
      "/home/ffiedler/miniconda3/envs/py37_WNTR/lib/python3.7/site-packages/wntr/epanet/io.py:2088: UserWarning:\n",
      "\n",
      "Not all curves were used in \"../Code/c-town_true_network_simplified_controls.inp\"; added with type None, units conversion left to user\n",
      "\n"
     ]
    }
   ],
   "source": [
    "inp_file = '../Code/c-town_true_network_simplified_controls.inp'\n",
    "ctown = twm(inp_file)\n",
    "node_names_all = ctown.wn.node_name_list\n",
    "node_names = ctown.getNodeName()\n",
    "link_names = ctown.getLinkName()\n",
    "\n",
    "n_junctions = len(node_names[2])\n",
    "n_nodes = len(node_names_all)\n",
    "\n",
    "pump_df = pd.DataFrame(np.ones(len(link_names[0])).reshape(1,-1), columns=link_names[0])\n",
    "valves_df = pd.DataFrame(np.ones(len(link_names[2])).reshape(1,-1), columns=link_names[2])"
   ]
  },
  {
   "cell_type": "markdown",
   "metadata": {},
   "source": [
    "# Get Connectivity Matrix"
   ]
  },
  {
   "cell_type": "markdown",
   "metadata": {},
   "source": [
    "Infos about connectivity matrix [here](https://transportgeography.org/?page_id=6969)."
   ]
  },
  {
   "cell_type": "code",
   "execution_count": 4,
   "metadata": {
    "scrolled": true
   },
   "outputs": [],
   "source": [
    "A = np.zeros((n_junctions,n_junctions))\n",
    "links = ctown.wn.links.todict()\n",
    "for key in links.keys():\n",
    "    i = np.where([np.array(node_names[2]) == links[key]['start_node_name']])[1]\n",
    "    j = np.where([np.array(node_names[2]) == links[key]['end_node_name']])[1]\n",
    "    \n",
    "    A[i,j] = 1\n",
    "    A[j,i] = 1"
   ]
  },
  {
   "cell_type": "code",
   "execution_count": 5,
   "metadata": {
    "scrolled": false
   },
   "outputs": [
    {
     "data": {
      "text/plain": [
       "<matplotlib.image.AxesImage at 0x7f953e2cdf90>"
      ]
     },
     "execution_count": 5,
     "metadata": {},
     "output_type": "execute_result"
    }
   ],
   "source": [
    "plt.figure()\n",
    "plt.spy(A)"
   ]
  },
  {
   "cell_type": "markdown",
   "metadata": {},
   "source": [
    "# Get Coordinates of nodes:"
   ]
  },
  {
   "cell_type": "code",
   "execution_count": 6,
   "metadata": {},
   "outputs": [],
   "source": [
    "nodes = ctown.wn.nodes.todict()"
   ]
  },
  {
   "cell_type": "code",
   "execution_count": 7,
   "metadata": {},
   "outputs": [],
   "source": [
    "coords_arr = np.array([nodes[key]['coordinates'] for key in nodes.keys()])\n",
    "coords = pd.DataFrame(coords_arr, index=node_names_all)"
   ]
  },
  {
   "cell_type": "markdown",
   "metadata": {},
   "source": [
    "# Clustering"
   ]
  },
  {
   "cell_type": "markdown",
   "metadata": {},
   "source": [
    "## Prepocess Data:"
   ]
  },
  {
   "cell_type": "markdown",
   "metadata": {},
   "source": [
    "### with random control input:"
   ]
  },
  {
   "cell_type": "code",
   "execution_count": 9,
   "metadata": {},
   "outputs": [],
   "source": [
    "file_rc = '/home/ffiedler/tubCloud/Shared/WDN_SurrogateModels/_RESULTS/150sim_1hourSampling/results_sim_59.pkl'\n",
    "\n",
    "with open(file_rc, 'rb') as f:\n",
    "    res_rc=pickle.load(f)"
   ]
  },
  {
   "cell_type": "markdown",
   "metadata": {},
   "source": [
    "### With MPC control:"
   ]
  },
  {
   "cell_type": "code",
   "execution_count": 8,
   "metadata": {},
   "outputs": [],
   "source": [
    "file_mpc = '/home/ffiedler/tubCloud/Shared/WDN_SurrogateModels/_RESULTS/MPC/001_economic/006_mod_007_results_sim_time.pkl'\n",
    "\n",
    "with open(file_mpc, 'rb') as f:\n",
    "    res_mpc=pickle.load(f)"
   ]
  },
  {
   "cell_type": "markdown",
   "metadata": {},
   "source": [
    "# Load cluster information:"
   ]
  },
  {
   "cell_type": "code",
   "execution_count": 12,
   "metadata": {},
   "outputs": [],
   "source": [
    "cluster_labels = pd.read_json('cluster_labels_only_mpc_02.json')\n",
    "pressure_factor = pd.read_json('pressure_factor_only_mpc_02.json')\n",
    "n_clusters = 30"
   ]
  },
  {
   "cell_type": "code",
   "execution_count": 29,
   "metadata": {
    "scrolled": false
   },
   "outputs": [],
   "source": [
    "cmap = matplotlib.cm.get_cmap('tab20')\n",
    "\n",
    "fig_1, ax_1 = plt.subplots(1,1, figsize=(5,4), sharex=True, sharey=True)\n",
    "\n",
    "press = res_mpc.node['pressure'][node_names[2]]\n",
    "press_med = press.mean()\n",
    "\n",
    "# # Highlight pumps\n",
    "# wntr.graphics.plot_network(ctown.wn, link_attribute=pump_df.loc[0],node_size=1, link_width=6, \n",
    "#                            add_colorbar=False, title='Pumps', ax=ax_1[0])\n",
    "# # Highlight valves\n",
    "# wntr.graphics.plot_network(ctown.wn, link_attribute=valves_df.loc[0],node_size=1, link_width=6, \n",
    "#                            add_colorbar=False, title='Valves', ax=ax_1[0])\n",
    "\n",
    "lines = wntr.graphics.plot_network(ctown.wn, node_attribute=cluster_labels.loc['pressure_cluster'],\n",
    "                                   node_size=50, node_labels=False, node_cmap='tab20',\n",
    "                                   add_colorbar=False, title='junction clustering', ax=ax_1) \n",
    "\n",
    "# wntr.graphics.plot_network(ctown.wn, node_attribute=press_med[node_names[2]],node_size=50, \n",
    "#                            node_cmap='CMRmap', title='mean pressure', ax=ax_1[1])  \n",
    "\n",
    "# mesh = ax_1[1].collections[1]\n",
    "# mesh.colorbar.set_label('pressure [m]')\n",
    "\n",
    "if True:\n",
    "    for i in range(n_clusters):\n",
    "        cluster_mean = coords.loc[node_names[2]][cluster_labels.loc['pressure_cluster']==i].median()-100\n",
    "        ax_1.text(*cluster_mean.tolist(), str(i), ha=\"center\", va=\"center\",\n",
    "                     bbox=dict(boxstyle=\"round\", ec='k', fc=cmap(i/n_clusters), alpha=0.7))\n",
    "fig_1.tight_layout(pad=0.1)\n",
    "\n"
   ]
  },
  {
   "cell_type": "markdown",
   "metadata": {},
   "source": [
    "### Evaluation"
   ]
  },
  {
   "cell_type": "code",
   "execution_count": 37,
   "metadata": {},
   "outputs": [],
   "source": [
    "press_junc_mpc = res_mpc.node['pressure'][node_names[2]]\n",
    "press_junc_mpc.index = press_junc_mpc.index/3600\n",
    "\n",
    "pressure_factor = press_junc_mpc.abs().mean()\n",
    "\n",
    "n_press_junc_mpc = press_junc_mpc / pressure_factor.to_numpy()\n",
    "# Calculate cluster mean and standard deviation\n",
    "jun_cl_press_group_mpc = press_junc_mpc.groupby(cluster_labels.loc['pressure_cluster'], axis=1)\n",
    "jun_cl_n_press_group_mpc = n_press_junc_mpc.groupby(cluster_labels.loc['pressure_cluster'], axis=1)\n",
    "jun_cl_n_press_mean_mpc = jun_cl_n_press_group_mpc.mean()\n",
    "jun_cl_n_press_std_mpc = jun_cl_n_press_group_mpc.std()"
   ]
  },
  {
   "cell_type": "code",
   "execution_count": 38,
   "metadata": {
    "scrolled": false
   },
   "outputs": [],
   "source": [
    "fig, ax = plt.subplots(2,2,figsize=(9,5), sharex=True, sharey='row')\n",
    "\n",
    "\n",
    "cluster_1=4\n",
    "cluster_2=0\n",
    "\n",
    "ax[0,0].plot(jun_cl_press_group_mpc.get_group(cluster_1),color='k', linewidth=0.2, alpha=0.5)\n",
    "\n",
    "ax[1,0].plot(jun_cl_n_press_group_mpc.get_group(cluster_1),color='k', linewidth=0.2, alpha=0.5)\n",
    "ax[1,0].plot(jun_cl_n_press_mean_mpc[[cluster_1]], label='cluster mean', linewidth=2)\n",
    "\n",
    "\n",
    "ax[0,1].plot(jun_cl_press_group_mpc.get_group(cluster_2),color='k', linewidth=0.2, alpha=0.5)\n",
    "ax[1,1].plot(jun_cl_n_press_group_mpc.get_group(cluster_2),color='k', linewidth=0.2, alpha=0.5)\n",
    "ax[1,1].plot(jun_cl_n_press_mean_mpc[[cluster_2]], label='cluster mean', linewidth=2)\n",
    "\n",
    "\n",
    "ax[0,0].set_title('MPC \\n cluster #{}  with n={} elements'.format(cluster_1, jun_cl_press_group_mpc.get_group(cluster_1).shape[1]))\n",
    "ax[0,1].set_title('Random control input \\n cluster #{}  with n={} elements'.format(cluster_2, jun_cl_press_group_mpc.get_group(cluster_1).shape[1]))\n",
    "ax[1,0].set_xlabel('time [h]')\n",
    "ax[1,1].set_xlabel('time [h]')\n",
    "ax[0,0].set_ylabel('pressure [m]')\n",
    "ax[1,0].set_ylabel('norm. \\n pressure [-]')\n",
    "#ax[1,0].set_ylim(0,1)\n",
    "#ax[0,0].set_ylim(40,200)\n",
    "#ax[0,0].set_xlim(0,100)\n",
    "\n",
    "# ax_2.fill_between(jun_cl_press_mean.index,\n",
    "#                   (jun_cl_press_mean[[cluster_i]]-3*jun_cl_press_std[[cluster_i]]).to_numpy().flatten(),\n",
    "#                   (jun_cl_press_mean[[cluster_i]]+3*jun_cl_press_std[[cluster_i]]).to_numpy().flatten(), \n",
    "#                   alpha=0.5, label='$\\pm 3\\sigma$')\n",
    "# ax_2.plot(jun_cl_press_group.get_group(cluster_i),color='k', linewidth=0.2, alpha=0.5)\n",
    "# ax_2.plot(jun_cl_press_mean[[cluster_i]], label='cluster mean')\n",
    "# ax_2.plot([0,0],[0,0], color='k', linewidth=0.2, alpha=0.5, label='individual nodes')\n",
    "\n",
    "# ax_2.legend()\n",
    "# ax_2.set_title('Normalized pressure for cluster #{}  with n={} elements'.format(cluster_i, jun_cl_press_group.get_group(cluster_i).shape[1]))\n",
    "# ax_2.set_xlabel('time [s]')\n",
    "# ax_2.set_ylabel('Pressure')\n",
    "\n",
    "fig.align_ylabels()\n",
    "fig.tight_layout(pad=0.2, w_pad=0.2, h_pad=0)"
   ]
  },
  {
   "cell_type": "code",
   "execution_count": null,
   "metadata": {},
   "outputs": [],
   "source": []
  }
 ],
 "metadata": {
  "kernelspec": {
   "display_name": "Python 3.7 (2019-10 Water Network Surrogate Model with Andrea)",
   "language": "python",
   "name": "py37_wntr"
  },
  "language_info": {
   "codemirror_mode": {
    "name": "ipython",
    "version": 3
   },
   "file_extension": ".py",
   "mimetype": "text/x-python",
   "name": "python",
   "nbconvert_exporter": "python",
   "pygments_lexer": "ipython3",
   "version": "3.7.4"
  },
  "toc": {
   "base_numbering": 1,
   "nav_menu": {},
   "number_sections": true,
   "sideBar": true,
   "skip_h1_title": false,
   "title_cell": "Table of Contents",
   "title_sidebar": "Contents",
   "toc_cell": false,
   "toc_position": {},
   "toc_section_display": true,
   "toc_window_display": false
  }
 },
 "nbformat": 4,
 "nbformat_minor": 2
}
