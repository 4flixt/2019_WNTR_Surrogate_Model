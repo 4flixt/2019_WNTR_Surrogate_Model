{
 "cells": [
  {
   "cell_type": "code",
   "execution_count": 1,
   "metadata": {},
   "outputs": [],
   "source": [
    "import pandas\n",
    "import matplotlib.pyplot as plt\n",
    "import matplotlib\n",
    "import pickle\n",
    "import wntr\n",
    "import numpy as np\n",
    "import pandas as pd\n",
    "\n",
    "import os\n",
    "import sys\n",
    "sys.path.append('../Code/')\n",
    "\n",
    "from testWN import testWN as twm\n",
    "\n",
    "from sklearn.cluster import AgglomerativeClustering, FeatureAgglomeration, SpectralClustering\n",
    "from sklearn.decomposition import PCA\n",
    "\n",
    "\n",
    "matplotlib.rcParams['font.size'] = 16\n",
    "matplotlib.rcParams['axes.unicode_minus'] = False\n",
    "matplotlib.rcParams['svg.fonttype'] = 'none'\n",
    "#matplotlib.rcParams['axes.grid'] = True"
   ]
  },
  {
   "cell_type": "code",
   "execution_count": 2,
   "metadata": {},
   "outputs": [],
   "source": [
    "%matplotlib qt"
   ]
  },
  {
   "cell_type": "markdown",
   "metadata": {},
   "source": [
    "# Get Network Information"
   ]
  },
  {
   "cell_type": "code",
   "execution_count": 3,
   "metadata": {
    "scrolled": true
   },
   "outputs": [],
   "source": [
    "inp_file = '../Networks/Net1.inp'\n",
    "ctown = twm(inp_file)\n",
    "\n",
    "links_df = pd.DataFrame(ctown.wn.links.todict())\n",
    "nodes_df = pd.DataFrame(ctown.wn.nodes.todict())"
   ]
  },
  {
   "cell_type": "code",
   "execution_count": 4,
   "metadata": {},
   "outputs": [
    {
     "data": {
      "text/plain": [
       "(20.0, 70.0)"
      ]
     },
     "execution_count": 4,
     "metadata": {},
     "output_type": "execute_result"
    }
   ],
   "source": [
    "nodes_df.loc['coordinates','10']"
   ]
  },
  {
   "cell_type": "code",
   "execution_count": 5,
   "metadata": {},
   "outputs": [],
   "source": [
    "junctions = nodes_df.loc[:,nodes_df.loc['node_type']=='Junction']\n",
    "n_junctions = junctions.shape[1]"
   ]
  },
  {
   "cell_type": "code",
   "execution_count": 6,
   "metadata": {},
   "outputs": [],
   "source": [
    "A = np.zeros((n_junctions,n_junctions))\n",
    "links = pd.DataFrame(ctown.wn.links.todict())\n",
    "for key in links.keys():\n",
    "    i = np.where([junctions.columns.to_numpy() == links[key]['start_node_name']])[1]\n",
    "    j = np.where([junctions.columns.to_numpy() == links[key]['end_node_name']])[1]\n",
    "    \n",
    "    A[i,j] = 1\n",
    "    A[j,i] = 1"
   ]
  },
  {
   "cell_type": "code",
   "execution_count": 7,
   "metadata": {},
   "outputs": [],
   "source": [
    "fig, ax = plt.subplots(1,2, figsize=(8,3))\n",
    "ax[1].spy(A)\n",
    "ax[1].yaxis.set_label_position(\"right\")\n",
    "ax[1].yaxis.tick_right()\n",
    "ax[1].xaxis.set_label_position(\"bottom\")\n",
    "\n",
    "lines = wntr.graphics.plot_network(ctown.wn, node_size=50, node_labels=False, add_colorbar=False, ax=ax[0])\n",
    "\n",
    "for i,junction_i in enumerate(junctions.columns.to_list()):\n",
    "    node_loc = nodes_df.loc['coordinates',junction_i]\n",
    "    ax[0].text(*node_loc, str(i), ha=\"center\", va=\"center\",\n",
    "              bbox=dict(boxstyle=\"round\", ec='k', fc='w'))\n",
    "\n",
    "\n",
    "fig.tight_layout(pad=0.1, h_pad=0, w_pad=0)"
   ]
  },
  {
   "cell_type": "code",
   "execution_count": null,
   "metadata": {},
   "outputs": [],
   "source": []
  }
 ],
 "metadata": {
  "kernelspec": {
   "display_name": "Python 3.7 (2019-10 Water Network Surrogate Model with Andrea)",
   "language": "python",
   "name": "py37_wntr"
  },
  "language_info": {
   "codemirror_mode": {
    "name": "ipython",
    "version": 3
   },
   "file_extension": ".py",
   "mimetype": "text/x-python",
   "name": "python",
   "nbconvert_exporter": "python",
   "pygments_lexer": "ipython3",
   "version": "3.7.4"
  },
  "toc": {
   "base_numbering": 1,
   "nav_menu": {},
   "number_sections": true,
   "sideBar": true,
   "skip_h1_title": false,
   "title_cell": "Table of Contents",
   "title_sidebar": "Contents",
   "toc_cell": false,
   "toc_position": {},
   "toc_section_display": true,
   "toc_window_display": false
  }
 },
 "nbformat": 4,
 "nbformat_minor": 2
}
